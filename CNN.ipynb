{
 "cells": [
  {
   "cell_type": "code",
   "execution_count": null,
   "metadata": {},
   "outputs": [],
   "source": [
    "%pip install torch"
   ]
  },
  {
   "cell_type": "code",
   "execution_count": null,
   "metadata": {},
   "outputs": [],
   "source": [
    "%pip install torchvision"
   ]
  },
  {
   "cell_type": "code",
   "execution_count": 5,
   "metadata": {},
   "outputs": [],
   "source": [
    "import numpy as np\n",
    "from matplotlib import pyplot as plt\n",
    "from sklearn.model_selection import train_test_split\n",
    "\n",
    "import torch\n",
    "from torch import nn\n",
    "from torch.nn import functional as F\n",
    "\n",
    "import os\n",
    "from torchvision.datasets import MNIST\n",
    "from torchvision import transforms as tfs\n",
    "from torch.utils.data import DataLoader"
   ]
  },
  {
   "cell_type": "code",
   "execution_count": null,
   "metadata": {},
   "outputs": [],
   "source": [
    "\n",
    "\n",
    "data_tfs = tfs.Compose([\n",
    "    tfs.ToTensor(),\n",
    "    tfs.Normalize((0.5), (0.5))\n",
    "])\n",
    "\n",
    "# install for train and test\n",
    "root = './'\n",
    "train_dataset = MNIST(root, train=True,  transform=data_tfs, download=True)\n",
    "val_dataset  = MNIST(root, train=False, transform=data_tfs, download=True)\n",
    "\n",
    "train_dataloader =  DataLoader(train_dataset, batch_size=256, shuffle=True)\n",
    "valid_dataloader =  DataLoader(val_dataset, batch_size=256, shuffle=True) "
   ]
  },
  {
   "cell_type": "code",
   "execution_count": null,
   "metadata": {},
   "outputs": [],
   "source": [
    "class CNN(nn.Module):\n",
    "    def __init__(self):\n",
    "        super(CNN, self).__init__()\n",
    "        self.conv1 = nn.Conv2d(1, 6, 3)\n",
    "        self.pool1 = nn.MaxPool2d(2, 2) \n",
    "        self.conv2 = nn.Conv2d(6, 16, 3) \n",
    "        self.pool2 = nn.MaxPool2d(2, 2) \n",
    "        self.fc1 = nn.Linear(5*5*16, 120) \n",
    "        self.fc2 = nn.Linear(120, 84) \n",
    "        self.fc3 = nn.Linear(84, 10) \n",
    "\n",
    "    def forward(self, x):\n",
    "        x = self.pool1(F.relu(self.conv1(x))) \n",
    "        x = self.pool2(F.relu(self.conv2(x)))\n",
    "        #print(x.shape)\n",
    "        x = x.view(-1, 16*5*5)\n",
    "        x = F.relu(self.fc1(x))\n",
    "        x = F.relu(self.fc2(x))\n",
    "        x = self.fc3(x)\n",
    "        return x\n"
   ]
  },
  {
   "cell_type": "code",
   "execution_count": null,
   "metadata": {},
   "outputs": [],
   "source": [
    "device = \"cuda\" if torch.cuda.is_available() else \"cpu\"\n",
    "model = CNN().to(device)\n",
    "batch = []\n",
    "batch = next(iter(train_dataloader))\n",
    "model.forward(torch.FloatTensor(batch[0]))\n",
    "\n",
    "criterion = nn.CrossEntropyLoss()\n",
    "optimizer = torch.optim.Adam(model.parameters())\n",
    "\n",
    "loaders = {\"train\": train_dataloader, \"valid\": valid_dataloader}"
   ]
  },
  {
   "cell_type": "code",
   "execution_count": 13,
   "metadata": {},
   "outputs": [
    {
     "name": "stdout",
     "output_type": "stream",
     "text": [
      "Epoch: 1\n",
      "Loader: train. Accuracy: 0.83745\n",
      "Loader: valid. Accuracy: 0.9532\n",
      "Epoch: 2\n",
      "Loader: train. Accuracy: 0.9610333333333333\n",
      "Loader: valid. Accuracy: 0.9712\n",
      "Epoch: 3\n",
      "Loader: train. Accuracy: 0.9727166666666667\n",
      "Loader: valid. Accuracy: 0.9756\n",
      "Epoch: 4\n",
      "Loader: train. Accuracy: 0.9784\n",
      "Loader: valid. Accuracy: 0.9823\n",
      "Epoch: 5\n",
      "Loader: train. Accuracy: 0.9825833333333334\n",
      "Loader: valid. Accuracy: 0.9826\n",
      "Epoch: 6\n",
      "Loader: train. Accuracy: 0.9846833333333334\n",
      "Loader: valid. Accuracy: 0.9855\n",
      "Epoch: 7\n",
      "Loader: train. Accuracy: 0.9868333333333333\n",
      "Loader: valid. Accuracy: 0.9869\n",
      "Epoch: 8\n",
      "Loader: train. Accuracy: 0.9881833333333333\n",
      "Loader: valid. Accuracy: 0.9868\n",
      "Epoch: 9\n",
      "Loader: train. Accuracy: 0.98965\n",
      "Loader: valid. Accuracy: 0.9858\n",
      "Epoch: 10\n",
      "Loader: train. Accuracy: 0.9907833333333333\n",
      "Loader: valid. Accuracy: 0.9869\n"
     ]
    }
   ],
   "source": [
    "max_epochs = 10\n",
    "accuracy = {\"train\": [], \"valid\": []}\n",
    "for epoch in range(max_epochs):\n",
    "    for k, dataloader in loaders.items():\n",
    "        epoch_correct = 0\n",
    "        epoch_all = 0\n",
    "        for x_batch, y_batch in dataloader:\n",
    "            if k == \"train\":\n",
    "                 model.train()\n",
    "                 optimizer.zero_grad()\n",
    "                 outp = model(x_batch)\n",
    "            else:\n",
    "                 model.eval()\n",
    "                 with torch.no_grad():\n",
    "                  outp = torch.softmax(model(x_batch), dim=1)\n",
    "            preds = outp.argmax(-1)\n",
    "            correct =  (preds == y_batch).sum() \n",
    "            all = len(preds)\n",
    "            epoch_correct += correct.item()\n",
    "            epoch_all += all\n",
    "            if k == \"train\":\n",
    "                loss = criterion(outp, y_batch)\n",
    "                loss.backward()\n",
    "                optimizer.step()\n",
    "        if k == \"train\":\n",
    "            print(f\"Epoch: {epoch+1}\")\n",
    "        print(f\"Loader: {k}. Accuracy: {epoch_correct/epoch_all}\")\n",
    "        accuracy[k].append(epoch_correct/epoch_all)"
   ]
  },
  {
   "cell_type": "code",
   "execution_count": 15,
   "metadata": {},
   "outputs": [
    {
     "data": {
      "image/png": "[encoded data removed]",
      "text/plain": [
       "<Figure size 800x500 with 1 Axes>"
      ]
     },
     "metadata": {},
     "output_type": "display_data"
    }
   ],
   "source": [
    "plt.figure(figsize=(8, 5))\n",
    "plt.title(\"Valid accuracy\")\n",
    "plt.plot(range(max_epochs), accuracy['valid'], label=\"ReLU activation\", linewidth=2)\n",
    "plt.legend()\n",
    "plt.xlabel(\"Epoch\")\n",
    "plt.show()"
   ]
  }
 ],
 "metadata": {
  "kernelspec": {
   "display_name": "Python 3",
   "language": "python",
   "name": "python3"
  },
  "language_info": {
   "codemirror_mode": {
    "name": "ipython",
    "version": 3
   },
   "file_extension": ".py",
   "mimetype": "text/x-python",
   "name": "python",
   "nbconvert_exporter": "python",
   "pygments_lexer": "ipython3",
   "version": "3.12.0"
  }
 },
 "nbformat": 4,
 "nbformat_minor": 2
}
