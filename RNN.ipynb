{
 "cells": [
  {
   "cell_type": "code",
   "execution_count": null,
   "metadata": {},
   "outputs": [],
   "source": [
    "%pip install datasets\n"
   ]
  },
  {
   "cell_type": "code",
   "execution_count": 101,
   "metadata": {},
   "outputs": [],
   "source": [
    "import numpy as np\n",
    "from matplotlib import pyplot as plt\n",
    "from sklearn.model_selection import train_test_split\n",
    "from datasets import load_dataset\n",
    "from matplotlib import pyplot as plt\n",
    "\n",
    "import torch\n",
    "from torch import nn\n",
    "from torch.nn import functional as F\n",
    "from torch.utils.data import DataLoader, TensorDataset\n",
    "from torchtext.data.utils import get_tokenizer\n",
    "from torchtext.vocab import build_vocab_from_iterator"
   ]
  },
  {
   "cell_type": "code",
   "execution_count": 96,
   "metadata": {},
   "outputs": [],
   "source": [
    "class RNNModel(nn.Module):\n",
    "    def __init__(self, vocab_size, embed_dim, hidden_dim, output_dim, num_layers=1):\n",
    "        super(RNNModel, self).__init__()\n",
    "        self.embedding = nn.Embedding(vocab_size, embed_dim)\n",
    "        self.lstm = nn.LSTM(embed_dim, hidden_dim, num_layers, batch_first=True, dropout=0.3)\n",
    "        self.dropout = nn.Dropout(0.3)\n",
    "        self.fc = nn.Linear(hidden_dim, output_dim)\n",
    "        \n",
    "\n",
    "    def forward(self, x):\n",
    "        x = self.embedding(x)\n",
    "        x, _ = self.lstm(x)\n",
    "        x = x[:, -1, :]\n",
    "        x = self.dropout(x) \n",
    "        x = torch.sigmoid(self.fc(x))\n",
    "        \n",
    "        return x"
   ]
  },
  {
   "cell_type": "code",
   "execution_count": null,
   "metadata": {},
   "outputs": [],
   "source": []
  },
  {
   "cell_type": "code",
   "execution_count": null,
   "metadata": {},
   "outputs": [],
   "source": [
    "dataset = load_dataset('imdb') \n",
    "train_data = dataset['train']\n",
    "test_data = dataset['test']\n"
   ]
  },
  {
   "cell_type": "code",
   "execution_count": 117,
   "metadata": {},
   "outputs": [],
   "source": [
    "\n",
    "\n",
    "tokenizer = get_tokenizer(\"basic_english\")\n",
    "\n",
    "def yield_tokens(data_iter):\n",
    "    for text in data_iter:\n",
    "        yield tokenizer(text)\n",
    "\n",
    "\n",
    "vocab = build_vocab_from_iterator(yield_tokens(train_data['text']), specials=[\"<unk>\"])\n",
    "vocab.set_default_index(vocab[\"<unk>\"])\n",
    "\n",
    "def text_pipeline(text):\n",
    "    return vocab(tokenizer(text))\n",
    "\n",
    "def process_data(texts, labels, vocab, tokenizer, max_seq_len): \n",
    "    data = [(torch.tensor(text_pipeline(text)[:max_seq_len] + [0]*(max_seq_len - len(text_pipeline(text)))), torch.tensor(label)) for text, label in zip(texts, labels)] \n",
    "    texts, labels = zip(*data) \n",
    "    return TensorDataset(torch.stack(texts), torch.stack(labels)) \n",
    "\n",
    "train_dataset = process_data(train_data['text'], train_data['label'], vocab, tokenizer, 128) \n",
    "test_dataset = process_data(test_data['text'], test_data['label'], vocab, tokenizer, 128)\n"
   ]
  },
  {
   "cell_type": "code",
   "execution_count": 118,
   "metadata": {},
   "outputs": [
    {
     "name": "stderr",
     "output_type": "stream",
     "text": [
      "c:\\Users\\user\\AppData\\Local\\Programs\\Python\\Python312\\Lib\\site-packages\\torch\\nn\\modules\\rnn.py:83: UserWarning: dropout option adds dropout after all but last recurrent layer, so non-zero dropout expects num_layers greater than 1, but got dropout=0.3 and num_layers=1\n",
      "  warnings.warn(\"dropout option adds dropout after all but last \"\n"
     ]
    }
   ],
   "source": [
    "train_dataloader = DataLoader(train_dataset, batch_size=64, shuffle=True) \n",
    "test_dataloader = DataLoader(test_dataset, batch_size=64, shuffle=False)\n",
    "\n",
    "device = \"cuda\" if torch.cuda.is_available() else \"cpu\"\n",
    "\n",
    "model = RNNModel(vocab_size=len(vocab), embed_dim=100, hidden_dim=128, output_dim=1).to(device)\n",
    "\n",
    "criterion = nn.BCELoss()\n",
    "optimizer = torch.optim.Adam(model.parameters(), lr=0.001, weight_decay=1e-5)\n",
    "\n",
    "loaders = {\"train\": train_dataloader, \"test\": test_dataloader}\n"
   ]
  },
  {
   "cell_type": "code",
   "execution_count": null,
   "metadata": {},
   "outputs": [],
   "source": []
  },
  {
   "cell_type": "code",
   "execution_count": 119,
   "metadata": {},
   "outputs": [
    {
     "name": "stdout",
     "output_type": "stream",
     "text": [
      "Epoch: 1\n",
      "Loader: train. Accuracy: 0.54352\n",
      "Loader: test. Accuracy: 0.5726\n",
      "Epoch: 2\n",
      "Loader: train. Accuracy: 0.5866\n",
      "Loader: test. Accuracy: 0.59412\n",
      "Epoch: 3\n",
      "Loader: train. Accuracy: 0.65344\n",
      "Loader: test. Accuracy: 0.67268\n",
      "Epoch: 4\n",
      "Loader: train. Accuracy: 0.682\n",
      "Loader: test. Accuracy: 0.58488\n",
      "Epoch: 5\n",
      "Loader: train. Accuracy: 0.67584\n",
      "Loader: test. Accuracy: 0.69516\n",
      "Epoch: 6\n",
      "Loader: train. Accuracy: 0.77268\n",
      "Loader: test. Accuracy: 0.78436\n",
      "Epoch: 7\n",
      "Loader: train. Accuracy: 0.8506\n",
      "Loader: test. Accuracy: 0.80884\n",
      "Epoch: 8\n",
      "Loader: train. Accuracy: 0.9058\n",
      "Loader: test. Accuracy: 0.8176\n",
      "Epoch: 9\n",
      "Loader: train. Accuracy: 0.9412\n",
      "Loader: test. Accuracy: 0.8058\n",
      "Epoch: 10\n",
      "Loader: train. Accuracy: 0.96316\n",
      "Loader: test. Accuracy: 0.81384\n"
     ]
    }
   ],
   "source": [
    "max_epoch = 10\n",
    "accuracy = {\"train\": [], \"test\": []}\n",
    "\n",
    "for epoch in range(max_epoch):\n",
    "    for k, dataloader in loaders.items():\n",
    "        epoch_correct = 0\n",
    "        epoch_all = 0\n",
    "        for x_batch, y_batch in dataloader:\n",
    "            x_batch = x_batch.to(device)\n",
    "            y_batch = y_batch.to(device).float().unsqueeze(1)\n",
    "         \n",
    "            if k == \"train\":\n",
    "                model.train()\n",
    "                optimizer.zero_grad()\n",
    "                \n",
    "                outp = model(x_batch)\n",
    "                \n",
    "                loss = criterion(outp, y_batch)\n",
    "                loss.backward()\n",
    "                optimizer.step()\n",
    "            else:\n",
    "                model.eval()\n",
    "                with torch.no_grad():\n",
    "                    outp = model(x_batch)\n",
    "\n",
    "            preds = (outp >= 0.5).float()\n",
    "            correct = (preds == y_batch).sum()\n",
    "            total = y_batch.size(0)\n",
    "            epoch_correct += correct.item()\n",
    "            epoch_all += total\n",
    "            # f1 = f1_score(preds.cpu().numpy(), y_batch.cpu().numpy())\n",
    "        if k == \"train\":\n",
    "            print(f\"Epoch: {epoch+1}\")\n",
    "        print(f\"Loader: {k}. Accuracy: {epoch_correct/epoch_all}\")\n",
    "        accuracy[k].append(epoch_correct/epoch_all)\n"
   ]
  },
  {
   "cell_type": "code",
   "execution_count": 122,
   "metadata": {},
   "outputs": [
    {
     "data": {
      "image/png": "[encoded data removed]",
      "text/plain": [
       "<Figure size 800x500 with 1 Axes>"
      ]
     },
     "metadata": {},
     "output_type": "display_data"
    }
   ],
   "source": [
    "plt.figure(figsize=(8, 5))\n",
    "plt.title(\"Valid accuracy\")\n",
    "plt.plot(range(max_epoch), accuracy['test'], label=\"RNN test loss\", linewidth=2)\n",
    "#plt.plot(range(max_epoch), accuracy['train'], label=\"RNN train loss\", linewidth=2)\n",
    "plt.legend()\n",
    "plt.xlabel(\"Epoch\")\n",
    "plt.show()"
   ]
  }
 ],
 "metadata": {
  "kernelspec": {
   "display_name": "Python 3",
   "language": "python",
   "name": "python3"
  },
  "language_info": {
   "codemirror_mode": {
    "name": "ipython",
    "version": 3
   },
   "file_extension": ".py",
   "mimetype": "text/x-python",
   "name": "python",
   "nbconvert_exporter": "python",
   "pygments_lexer": "ipython3",
   "version": "3.12.0"
  }
 },
 "nbformat": 4,
 "nbformat_minor": 2
}
