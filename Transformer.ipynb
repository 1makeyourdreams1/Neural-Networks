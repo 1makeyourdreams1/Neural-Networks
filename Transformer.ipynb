{
 "cells": [
  {
   "cell_type": "code",
   "execution_count": null,
   "metadata": {
    "colab": {
     "base_uri": "https://localhost:8080/"
    },
    "id": "N46xVDDTJ__M",
    "jupyter": {
     "outputs_hidden": true
    },
    "outputId": "ec23e236-f51e-4fe3-851a-9816172d4a6a"
   },
   "outputs": [],
   "source": [
    "%pip install torch"
   ]
  },
  {
   "cell_type": "code",
   "execution_count": 1,
   "metadata": {
    "id": "WMQl3YYEKPuP"
   },
   "outputs": [],
   "source": [
    "import torch\n",
    "from torch import nn\n",
    "import torch.nn.functional as F\n",
    "import math\n",
    "\n",
    "\n",
    "class SelfAttention(nn.Module):\n",
    "  def __init__(self, k, heads=8):\n",
    "    super().__init__()\n",
    "    self.k, self.heads = k, heads\n",
    "\n",
    "    self.tokeys = nn.Linear(k, k * heads, bias=False)\n",
    "    self.toqueries = nn.Linear(k, k * heads, bias=False)\n",
    "    self.tovalues = nn.Linear(k, k * heads, bias=False)\n",
    "\n",
    "    self.unifyheads = nn.Linear(heads * k, k)\n",
    "\n",
    "  def forward(self, x):\n",
    "    b, t, _ = x.size()\n",
    "    h = self.heads\n",
    "    k = self.k  \n",
    "\n",
    "    queries = self.toqueries(x).view(b, t, h, k)\n",
    "    keys = self.tokeys(x).view(b, t, h, k)\n",
    "    values = self.tovalues(x).view(b, t, h, k)\n",
    "\n",
    "    # (b, h, t, k)\n",
    "    queries = queries.transpose(1, 2)\n",
    "    keys = keys.transpose(1, 2)\n",
    "    values = values.transpose(1, 2)\n",
    "\n",
    "    dot = torch.matmul(queries, keys.transpose(2, 3)) / math.sqrt(k)\n",
    "    dot = F.softmax(dot, dim=-1)\n",
    "    out = torch.matmul(dot, values)\n",
    "    out = out.transpose(1, 2).contiguous().view(b, t, h * k)\n",
    "    return self.unifyheads(out)"
   ]
  },
  {
   "cell_type": "code",
   "execution_count": 2,
   "metadata": {
    "id": "ZimqCPrVU3zO"
   },
   "outputs": [],
   "source": [
    "class TransformerBlock(nn.Module):\n",
    "    def __init__(self, k, heads):\n",
    "        super().__init__()\n",
    "\n",
    "        self.attention = SelfAttention(k, heads=heads)\n",
    "        self.norm1 = nn.LayerNorm(k)\n",
    "        self.norm2 = nn.LayerNorm(k)\n",
    "        self.ff = nn.Sequential(\n",
    "            nn.Linear(k, 4 * k),\n",
    "            nn.ReLU(),\n",
    "            nn.Linear(4 * k, k)\n",
    "        )\n",
    "\n",
    "    def forward(self, x):\n",
    "        attended = self.attention(x)\n",
    "        x = self.norm1(attended + x)\n",
    "\n",
    "        fedforward = self.ff(x)\n",
    "        return self.norm2(fedforward + x)"
   ]
  },
  {
   "cell_type": "code",
   "execution_count": 4,
   "metadata": {
    "id": "4qp7nhu5a4xu"
   },
   "outputs": [],
   "source": [
    "class Transformer(nn.Module):\n",
    "  def __init__(self, k, heads, depth, seq_length, num_tokens):\n",
    "        super().__init__()\n",
    "\n",
    "        self.num_tokens = num_tokens\n",
    "        self.token_emb = nn.Embedding(num_tokens, k)\n",
    "        self.pos_emb = nn.Embedding(seq_length, k)\n",
    "\n",
    "        tblocks = []\n",
    "        for i in range(depth):\n",
    "          tblocks.append(TransformerBlock(k=k, heads=heads))\n",
    "        self.tblocks = nn.Sequential(*tblocks)\n",
    "\n",
    "        # self.toprobs = nn.Linear(k, num_classes)\n",
    "        self.to_logits = nn.Linear(k, num_tokens)\n",
    "\n",
    "  def forward(self, x):\n",
    "        tokens = self.token_emb(x)\n",
    "        b, t, k = tokens.size()\n",
    "\n",
    "        positions = torch.arange(t)\n",
    "        positions = self.pos_emb(positions)[None, :, :].expand(b, t, k)\n",
    "\n",
    "        x = tokens + positions\n",
    "        x = self.tblocks(x)\n",
    "\n",
    "        # x = self.toprobs(x.mean(dim=1))\n",
    "        # return F.log_softmax(x, dim=1)\n",
    "        logits = self.to_logits(x)  # (batch, seq_len, vocab_size)\n",
    "        return logits\n"
   ]
  },
  {
   "cell_type": "code",
   "execution_count": null,
   "metadata": {
    "scrolled": true
   },
   "outputs": [],
   "source": [
    "! pip install transformers"
   ]
  },
  {
   "cell_type": "code",
   "execution_count": null,
   "metadata": {
    "scrolled": true
   },
   "outputs": [],
   "source": [
    "! pip install jupyterlab==3.6.7"
   ]
  },
  {
   "cell_type": "code",
   "execution_count": 6,
   "metadata": {},
   "outputs": [
    {
     "name": "stdout",
     "output_type": "stream",
     "text": [
      "torch.Size([108, 2048])\n"
     ]
    }
   ],
   "source": [
    "import os\n",
    "from transformers import AutoTokenizer\n",
    "import torch\n",
    "\n",
    "\n",
    "tokenizer = AutoTokenizer.from_pretrained(\"sberbank-ai/rugpt3small_based_on_gpt2\")\n",
    "\n",
    "path = \"corpus\"\n",
    "\n",
    "texts = []\n",
    "for fn in os.listdir(path):\n",
    "    with open(os.path.join(path, fn), \"r\", encoding=\"utf-8\") as f:\n",
    "        texts.append(f.read())\n",
    "\n",
    "# full_text = \"\\n\".join(texts)\n",
    "\n",
    "tokens = tokenizer(texts, return_tensors=\"pt\", truncation=True, padding=True)\n",
    "\n",
    "max_length = 512 \n",
    "\n",
    "input_ids = tokens[\"input_ids\"]\n",
    "\n",
    "print(input_ids.shape)\n",
    "\n",
    "chunks = [input_ids[:, i:i + max_length] for i in range(0, input_ids.shape[1], max_length)]\n",
    "\n",
    "dataset = torch.utils.data.TensorDataset(torch.cat(chunks))"
   ]
  },
  {
   "cell_type": "code",
   "execution_count": 8,
   "metadata": {},
   "outputs": [
    {
     "name": "stdout",
     "output_type": "stream",
     "text": [
      "Train size: 345\n",
      "Test size: 87\n"
     ]
    }
   ],
   "source": [
    "from sklearn.model_selection import train_test_split\n",
    "\n",
    "test_size = 0.2\n",
    "\n",
    "all_data = dataset.tensors[0]\n",
    "\n",
    "train_data, test_data = train_test_split(all_data, test_size=test_size, random_state=42)\n",
    "\n",
    "train_dataset = torch.utils.data.TensorDataset(train_data)\n",
    "test_dataset = torch.utils.data.TensorDataset(test_data)\n",
    "\n",
    "print(f\"Train size: {len(train_dataset)}\")\n",
    "print(f\"Test size: {len(test_dataset)}\")"
   ]
  },
  {
   "cell_type": "code",
   "execution_count": 9,
   "metadata": {
    "colab": {
     "base_uri": "https://localhost:8080/"
    },
    "id": "QutbxOcX-lCR",
    "outputId": "8aa91a64-c837-4baa-e4d9-0cc8dfabad7c"
   },
   "outputs": [],
   "source": [
    "from torch.utils.data import DataLoader\n",
    "\n",
    "batch_size = 16\n",
    "\n",
    "train_loader = DataLoader(train_dataset, batch_size=batch_size, shuffle=True)\n",
    "test_loader = DataLoader(test_dataset, batch_size=batch_size, shuffle=False)"
   ]
  },
  {
   "cell_type": "code",
   "execution_count": 7,
   "metadata": {
    "id": "NCqyL0vM5oVc"
   },
   "outputs": [],
   "source": [
    "model = Transformer(\n",
    "    k=512,       \n",
    "    heads=8,      \n",
    "    depth=6,      \n",
    "    seq_length=512,  \n",
    "    num_tokens=tokenizer.vocab_size  \n",
    ")\n"
   ]
  },
  {
   "cell_type": "code",
   "execution_count": null,
   "metadata": {},
   "outputs": [],
   "source": [
    "import torch.optim as optim\n",
    "import matplotlib.pyplot as plt\n",
    "from torch.utils.data import DataLoader\n",
    "from tqdm import tqdm  \n",
    "\n",
    "device = torch.device(\"cuda\" if torch.cuda.is_available() else \"cpu\")\n",
    "num_epochs = 3\n",
    "batch_size = 16\n",
    "learning_rate = 3e-4\n",
    "\n",
    "optimizer = optim.Adam(model.parameters(), lr=learning_rate)\n",
    "criterion = nn.CrossEntropyLoss()\n",
    "\n",
    "train_losses = []\n",
    "test_losses = []\n",
    "\n",
    "for epoch in range(num_epochs):\n",
    "    model.train()\n",
    "    train_loss = 0\n",
    "\n",
    "    for batch in tqdm(train_loader, desc=f\"Training Epoch {epoch+1}\", unit=\"batch\"):\n",
    "        batch = batch[0].to(device)  \n",
    "    \n",
    "        optimizer.zero_grad()\n",
    "        logits = model(batch)\n",
    "        \n",
    "        # Ошибка\n",
    "        loss = criterion(logits.view(-1, logits.size(-1)), batch.view(-1))\n",
    "        loss.backward()\n",
    "        optimizer.step()\n",
    "        \n",
    "        train_loss += loss.item()\n",
    "\n",
    "    avg_train_loss = train_loss / len(train_loader)\n",
    "    train_losses.append(avg_train_loss)\n",
    "\n",
    "    model.eval()\n",
    "    test_loss = 0\n",
    "\n",
    "    with torch.no_grad():\n",
    "        for batch in tqdm(test_loader, desc=f\"Testing Epoch {epoch+1}\", unit=\"batch\"):\n",
    "            batch = batch[0].to(device)\n",
    "            logits = model(batch)\n",
    "            \n",
    "            loss = criterion(logits.view(-1, logits.size(-1)), batch.view(-1))\n",
    "            test_loss += loss.item()\n",
    "\n",
    "    avg_test_loss = test_loss / len(test_loader)\n",
    "    test_losses.append(avg_test_loss)\n",
    "\n",
    "    print(f\"Epoch {epoch+1}: Train Loss = {avg_train_loss:.4f}, Test Loss = {avg_test_loss:.4f}\")\n",
    "\n",
    "plt.plot(range(1, num_epochs+1), train_losses, label=\"Train Loss\")\n",
    "plt.plot(range(1, num_epochs+1), test_losses, label=\"Test Loss\")\n",
    "plt.xlabel(\"Epochs\")\n",
    "plt.ylabel(\"Loss\")\n",
    "plt.legend()\n",
    "plt.title(\"График изменения ошибки\")\n",
    "plt.show()\n"
   ]
  },
  {
   "cell_type": "code",
   "execution_count": 40,
   "metadata": {},
   "outputs": [
    {
     "name": "stderr",
     "output_type": "stream",
     "text": [
      "Training Epoch 4: 100%|█████████████████████████████████████████████████████████████| 22/22 [28:42<00:00, 78.29s/batch]\n",
      "Testing Epoch 4: 100%|████████████████████████████████████████████████████████████████| 6/6 [01:15<00:00, 12.58s/batch]\n"
     ]
    },
    {
     "name": "stdout",
     "output_type": "stream",
     "text": [
      "Epoch 4: Train Loss = 2.7407, Test Loss = 2.9516\n"
     ]
    },
    {
     "name": "stderr",
     "output_type": "stream",
     "text": [
      "Training Epoch 5: 100%|█████████████████████████████████████████████████████████████| 22/22 [28:45<00:00, 78.42s/batch]\n",
      "Testing Epoch 5: 100%|████████████████████████████████████████████████████████████████| 6/6 [01:16<00:00, 12.75s/batch]\n"
     ]
    },
    {
     "name": "stdout",
     "output_type": "stream",
     "text": [
      "Epoch 5: Train Loss = 2.0954, Test Loss = 2.4761\n"
     ]
    },
    {
     "name": "stderr",
     "output_type": "stream",
     "text": [
      "Training Epoch 6: 100%|█████████████████████████████████████████████████████████████| 22/22 [29:17<00:00, 79.91s/batch]\n",
      "Testing Epoch 6: 100%|████████████████████████████████████████████████████████████████| 6/6 [01:15<00:00, 12.51s/batch]\n"
     ]
    },
    {
     "name": "stdout",
     "output_type": "stream",
     "text": [
      "Epoch 6: Train Loss = 1.5966, Test Loss = 2.1043\n"
     ]
    },
    {
     "data": {
      "image/png": "[encoded data removed]",
      "text/plain": [
       "<Figure size 640x480 with 1 Axes>"
      ]
     },
     "metadata": {},
     "output_type": "display_data"
    }
   ],
   "source": [
    "prev_epoch = 3\n",
    "num_epochs = 6\n",
    "\n",
    "for epoch in range(prev_epoch, num_epochs):\n",
    "    model.train()\n",
    "    train_loss = 0\n",
    "\n",
    "    for batch in tqdm(train_loader, desc=f\"Training Epoch {epoch+1}\", unit=\"batch\"):\n",
    "        batch = batch[0].to(device)  \n",
    "    \n",
    "        optimizer.zero_grad()\n",
    "        logits = model(batch)\n",
    "        \n",
    "        loss = criterion(logits.view(-1, logits.size(-1)), batch.view(-1))\n",
    "        loss.backward()\n",
    "        optimizer.step()\n",
    "        \n",
    "        train_loss += loss.item()\n",
    "\n",
    "    avg_train_loss = train_loss / len(train_loader)\n",
    "    train_losses.append(avg_train_loss)\n",
    "\n",
    "    model.eval()\n",
    "    test_loss = 0\n",
    "\n",
    "    with torch.no_grad():\n",
    "        for batch in tqdm(test_loader, desc=f\"Testing Epoch {epoch+1}\", unit=\"batch\"):\n",
    "            batch = batch[0].to(device)\n",
    "            logits = model(batch)\n",
    "            \n",
    "            loss = criterion(logits.view(-1, logits.size(-1)), batch.view(-1))\n",
    "            test_loss += loss.item()\n",
    "\n",
    "    avg_test_loss = test_loss / len(test_loader)\n",
    "    test_losses.append(avg_test_loss)\n",
    "\n",
    "    print(f\"Epoch {epoch+1}: Train Loss = {avg_train_loss:.4f}, Test Loss = {avg_test_loss:.4f}\")\n",
    "\n",
    "plt.plot(range(1, num_epochs+1), train_losses, label=\"Train Loss\")\n",
    "plt.plot(range(1, num_epochs+1), test_losses, label=\"Test Loss\")\n",
    "plt.xlabel(\"Epochs\")\n",
    "plt.ylabel(\"Loss\")\n",
    "plt.legend()\n",
    "plt.title(\"График изменения ошибки\")\n",
    "plt.show()"
   ]
  },
  {
   "cell_type": "code",
   "execution_count": 8,
   "metadata": {
    "id": "eFdsRda1rVCb"
   },
   "outputs": [],
   "source": [
    "def generate(model, input, max_new_tokens=5):\n",
    "    for _ in range(max_new_tokens):\n",
    "        logits = model.forward(input)  # (b, t, vocab_size)\n",
    "        probs = F.softmax(logits[:, -1, :], dim=-1)  \n",
    "        next_token = torch.multinomial(probs, num_samples=1)\n",
    "        input = torch.cat([input, next_token], dim=1)\n",
    "    return input"
   ]
  },
  {
   "cell_type": "code",
   "execution_count": null,
   "metadata": {},
   "outputs": [],
   "source": [
    "model.load_state_dict(torch.load(\"transformer_weights.pth\"))"
   ]
  },
  {
   "cell_type": "code",
   "execution_count": 16,
   "metadata": {
    "colab": {
     "base_uri": "https://localhost:8080/"
    },
    "id": "ydu_smTfrM-z",
    "outputId": "e0e292e8-264a-4e7c-f3be-b598638bb54d"
   },
   "outputs": [
    {
     "name": "stdout",
     "output_type": "stream",
     "text": [
      "Темный лес неп Андреев Наслед добавляетрую протя\n"
     ]
    }
   ],
   "source": [
    "model.eval()\n",
    "context = tokenizer(\"Темный лес\", return_tensors=\"pt\")[\"input_ids\"].to(\"cpu\")\n",
    "generated = generate(model, context, max_new_tokens=6)\n",
    "\n",
    "print(tokenizer.decode(generated[0], skip_special_tokens=True))"
   ]
  },
  {
   "cell_type": "code",
   "execution_count": 51,
   "metadata": {},
   "outputs": [
    {
     "name": "stdout",
     "output_type": "stream",
     "text": [
      "Модель сохранена в transformer_weights.pth\n"
     ]
    }
   ],
   "source": [
    "model_path = \"transformer_weights.pth\"\n",
    "\n",
    "torch.save(model.state_dict(), model_path)\n",
    "print(f\"Модель сохранена в {model_path}\")"
   ]
  }
 ],
 "metadata": {
  "colab": {
   "provenance": []
  },
  "kernelspec": {
   "display_name": "Python 3 (ipykernel)",
   "language": "python",
   "name": "python3"
  },
  "language_info": {
   "codemirror_mode": {
    "name": "ipython",
    "version": 3
   },
   "file_extension": ".py",
   "mimetype": "text/x-python",
   "name": "python",
   "nbconvert_exporter": "python",
   "pygments_lexer": "ipython3",
   "version": "3.12.7"
  },
  "widgets": {}
 },
 "nbformat": 4,
 "nbformat_minor": 4
}
